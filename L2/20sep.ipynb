{
 "cells": [
  {
   "cell_type": "code",
   "execution_count": 2,
   "metadata": {},
   "outputs": [
    {
     "name": "stdout",
     "output_type": "stream",
     "text": [
      "Collecting LightGBM\n",
      "  Downloading lightgbm-4.1.0-py3-none-win_amd64.whl (1.3 MB)\n",
      "                                              0.0/1.3 MB ? eta -:--:--\n",
      "     -------                                  0.2/1.3 MB 4.8 MB/s eta 0:00:01\n",
      "     -----------------                        0.6/1.3 MB 7.1 MB/s eta 0:00:01\n",
      "     ------------------------                 0.8/1.3 MB 6.3 MB/s eta 0:00:01\n",
      "     ---------------------------------        1.1/1.3 MB 6.4 MB/s eta 0:00:01\n",
      "     ---------------------------------------- 1.3/1.3 MB 6.0 MB/s eta 0:00:00\n",
      "Requirement already satisfied: numpy in c:\\users\\oscar\\appdata\\local\\programs\\python\\python311\\lib\\site-packages (from LightGBM) (1.25.1)\n",
      "Requirement already satisfied: scipy in c:\\users\\oscar\\appdata\\local\\programs\\python\\python311\\lib\\site-packages (from LightGBM) (1.11.1)\n",
      "Installing collected packages: LightGBM\n",
      "Successfully installed LightGBM-4.1.0\n",
      "Note: you may need to restart the kernel to use updated packages.\n"
     ]
    },
    {
     "name": "stderr",
     "output_type": "stream",
     "text": [
      "\n",
      "[notice] A new release of pip is available: 23.1.2 -> 23.2.1\n",
      "[notice] To update, run: python.exe -m pip install --upgrade pip\n"
     ]
    }
   ],
   "source": [
    "pip install LightGBM"
   ]
  },
  {
   "cell_type": "code",
   "execution_count": 3,
   "metadata": {},
   "outputs": [
    {
     "name": "stdout",
     "output_type": "stream",
     "text": [
      "Collecting gbm\n",
      "  Downloading gbm-0.0.1.tar.gz (4.8 kB)\n",
      "  Installing build dependencies: started\n",
      "  Installing build dependencies: finished with status 'done'\n",
      "  Getting requirements to build wheel: started\n",
      "  Getting requirements to build wheel: finished with status 'done'\n",
      "  Preparing metadata (pyproject.toml): started\n",
      "  Preparing metadata (pyproject.toml): finished with status 'done'\n",
      "Requirement already satisfied: numpy in c:\\users\\oscar\\appdata\\local\\programs\\python\\python311\\lib\\site-packages (from gbm) (1.25.1)\n",
      "Collecting astropy (from gbm)\n",
      "  Downloading astropy-5.3.3-cp311-cp311-win_amd64.whl (6.9 MB)\n",
      "                                              0.0/6.9 MB ? eta -:--:--\n",
      "                                              0.0/6.9 MB 653.6 kB/s eta 0:00:11\n",
      "                                              0.1/6.9 MB 1.2 MB/s eta 0:00:06\n",
      "                                              0.1/6.9 MB 1.2 MB/s eta 0:00:06\n",
      "     -                                        0.2/6.9 MB 952.6 kB/s eta 0:00:08\n",
      "     -                                        0.3/6.9 MB 1.4 MB/s eta 0:00:05\n",
      "     --                                       0.4/6.9 MB 1.4 MB/s eta 0:00:05\n",
      "     --                                       0.5/6.9 MB 1.6 MB/s eta 0:00:04\n",
      "     ----                                     0.7/6.9 MB 2.1 MB/s eta 0:00:04\n",
      "     -----                                    1.0/6.9 MB 2.3 MB/s eta 0:00:03\n",
      "     -------                                  1.2/6.9 MB 2.7 MB/s eta 0:00:03\n",
      "     --------                                 1.5/6.9 MB 2.9 MB/s eta 0:00:02\n",
      "     ----------                               1.8/6.9 MB 3.3 MB/s eta 0:00:02\n",
      "     ------------                             2.1/6.9 MB 3.6 MB/s eta 0:00:02\n",
      "     -------------                            2.4/6.9 MB 3.7 MB/s eta 0:00:02\n",
      "     --------------                           2.4/6.9 MB 3.7 MB/s eta 0:00:02\n",
      "     --------------                           2.4/6.9 MB 3.7 MB/s eta 0:00:02\n",
      "     -----------------                        3.0/6.9 MB 3.8 MB/s eta 0:00:02\n",
      "     -----------------                        3.0/6.9 MB 3.6 MB/s eta 0:00:02\n",
      "     ------------------                       3.1/6.9 MB 3.6 MB/s eta 0:00:02\n",
      "     --------------------                     3.5/6.9 MB 3.8 MB/s eta 0:00:01\n",
      "     ---------------------                    3.8/6.9 MB 3.9 MB/s eta 0:00:01\n",
      "     ------------------------                 4.2/6.9 MB 4.1 MB/s eta 0:00:01\n",
      "     -------------------------                4.5/6.9 MB 4.3 MB/s eta 0:00:01\n",
      "     ----------------------------             4.9/6.9 MB 4.4 MB/s eta 0:00:01\n",
      "     -----------------------------            5.1/6.9 MB 4.5 MB/s eta 0:00:01\n",
      "     -----------------------------            5.1/6.9 MB 4.3 MB/s eta 0:00:01\n",
      "     ------------------------------           5.2/6.9 MB 4.2 MB/s eta 0:00:01\n",
      "     ------------------------------           5.4/6.9 MB 4.2 MB/s eta 0:00:01\n",
      "     -------------------------------          5.5/6.9 MB 4.1 MB/s eta 0:00:01\n",
      "     --------------------------------         5.6/6.9 MB 4.0 MB/s eta 0:00:01\n",
      "     --------------------------------         5.6/6.9 MB 4.0 MB/s eta 0:00:01\n",
      "     -----------------------------------      6.1/6.9 MB 4.1 MB/s eta 0:00:01\n",
      "     -------------------------------------    6.5/6.9 MB 4.3 MB/s eta 0:00:01\n",
      "     ---------------------------------------  6.8/6.9 MB 4.4 MB/s eta 0:00:01\n",
      "     ---------------------------------------- 6.9/6.9 MB 4.3 MB/s eta 0:00:00\n",
      "Collecting pyerfa>=2.0 (from astropy->gbm)\n",
      "  Downloading pyerfa-2.0.0.3-cp311-cp311-win_amd64.whl (347 kB)\n",
      "                                              0.0/347.7 kB ? eta -:--:--\n",
      "     -----------------                      163.8/347.7 kB 9.6 MB/s eta 0:00:01\n",
      "     -------------------------------------- 347.7/347.7 kB 4.3 MB/s eta 0:00:00\n",
      "Collecting PyYAML>=3.13 (from astropy->gbm)\n",
      "  Downloading PyYAML-6.0.1-cp311-cp311-win_amd64.whl (144 kB)\n",
      "                                              0.0/144.7 kB ? eta -:--:--\n",
      "     -------------------------------------- 144.7/144.7 kB 8.4 MB/s eta 0:00:00\n",
      "Requirement already satisfied: packaging>=19.0 in c:\\users\\oscar\\appdata\\roaming\\python\\python311\\site-packages (from astropy->gbm) (23.1)\n",
      "Building wheels for collected packages: gbm\n",
      "  Building wheel for gbm (pyproject.toml): started\n",
      "  Building wheel for gbm (pyproject.toml): finished with status 'done'\n",
      "  Created wheel for gbm: filename=gbm-0.0.1-py3-none-any.whl size=5214 sha256=e609e71e7588fbec1894ee9e4e754f4192c3d5172d68eac3d53baa870e67539f\n",
      "  Stored in directory: c:\\users\\oscar\\appdata\\local\\pip\\cache\\wheels\\e7\\0c\\9a\\6e04982cc4cf4cc0ad0b3c178fc0818098262d57acc0ceae02\n",
      "Successfully built gbm\n",
      "Installing collected packages: PyYAML, pyerfa, astropy, gbm\n",
      "Successfully installed PyYAML-6.0.1 astropy-5.3.3 gbm-0.0.1 pyerfa-2.0.0.3\n",
      "Note: you may need to restart the kernel to use updated packages.\n"
     ]
    },
    {
     "name": "stderr",
     "output_type": "stream",
     "text": [
      "  WARNING: The scripts fits2bitmap.exe, fitscheck.exe, fitsdiff.exe, fitsheader.exe, fitsinfo.exe, samp_hub.exe, showtable.exe, volint.exe and wcslint.exe are installed in 'c:\\Users\\oscar\\AppData\\Local\\Programs\\Python\\Python311\\Scripts' which is not on PATH.\n",
      "  Consider adding this directory to PATH or, if you prefer to suppress this warning, use --no-warn-script-location.\n",
      "\n",
      "[notice] A new release of pip is available: 23.1.2 -> 23.2.1\n",
      "[notice] To update, run: python.exe -m pip install --upgrade pip\n"
     ]
    }
   ],
   "source": [
    "pip install gbm"
   ]
  },
  {
   "cell_type": "code",
   "execution_count": null,
   "metadata": {},
   "outputs": [],
   "source": [
    "pip install "
   ]
  }
 ],
 "metadata": {
  "kernelspec": {
   "display_name": "Python 3",
   "language": "python",
   "name": "python3"
  },
  "language_info": {
   "codemirror_mode": {
    "name": "ipython",
    "version": 3
   },
   "file_extension": ".py",
   "mimetype": "text/x-python",
   "name": "python",
   "nbconvert_exporter": "python",
   "pygments_lexer": "ipython3",
   "version": "3.11.4"
  },
  "orig_nbformat": 4
 },
 "nbformat": 4,
 "nbformat_minor": 2
}
